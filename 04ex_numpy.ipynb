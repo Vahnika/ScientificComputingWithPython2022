{
 "cells": [
  {
   "cell_type": "markdown",
   "metadata": {},
   "source": [
    "1\\. **Reductions**\n",
    "\n",
    "Find the total mean, and the mean for each row and column of the following matrix:\n",
    "\n",
    "```python\n",
    "m = np.arange(12).reshape((3,4))\n",
    "```"
   ]
  },
  {
   "cell_type": "code",
   "execution_count": 1,
   "metadata": {},
   "outputs": [],
   "source": [
    "import numpy as np"
   ]
  },
  {
   "cell_type": "code",
   "execution_count": 11,
   "metadata": {},
   "outputs": [
    {
     "name": "stdout",
     "output_type": "stream",
     "text": [
      "The matrix is \n",
      " [[ 0  1  2  3]\n",
      " [ 4  5  6  7]\n",
      " [ 8  9 10 11]]\n",
      "The total mean of matrix is: 5.5\n",
      "Mean of the row  1 is 1.5\n",
      "Mean of the row  2 is 5.5\n",
      "Mean of the row  3 is 9.5\n",
      "Mean of the column  1 is 4.0\n",
      "Mean of the column  2 is 5.0\n",
      "Mean of the column  3 is 6.0\n",
      "Mean of the column  4 is 7.0\n"
     ]
    }
   ],
   "source": [
    "m = np.arange(12).reshape((3,4))\n",
    "print(\"The matrix is \\n\",m)\n",
    "\n",
    "total_mean = np.mean(m)\n",
    "print(\"The total mean of matrix is:\", total_mean)\n",
    "\n",
    "counter = 1\n",
    "for i in m:\n",
    "    row_mean = np.mean(i)\n",
    "    print(\"Mean of the row \",counter,\"is\", str(row_mean))\n",
    "    counter+=1\n",
    "\n",
    "m_transpose = np.transpose(m)\n",
    "counter = 1\n",
    "for i in m_transpose:\n",
    "    col_mean = np.mean(i)\n",
    "    print(\"Mean of the column \",counter,\"is\", str(col_mean))\n",
    "    counter+=1"
   ]
  },
  {
   "cell_type": "markdown",
   "metadata": {},
   "source": [
    "2\\. **Outer product**\n",
    "\n",
    "Find the outer product of the following vectors:\n",
    "\n",
    "```python\n",
    "u = np.array([1, 3, 5, 7])\n",
    "v = np.array([2, 4, 6, 8])\n",
    "```\n",
    "\n",
    "Use different methods to do this:\n",
    "\n",
    "   1. Using the function `outer` in numpy\n",
    "   2. Using a nested `for` loop or a list comprehension\n",
    "   3. Using numpy broadcasting operations"
   ]
  },
  {
   "cell_type": "code",
   "execution_count": 20,
   "metadata": {},
   "outputs": [
    {
     "name": "stdout",
     "output_type": "stream",
     "text": [
      "Outer product using the function outer in numpy: \n",
      " [[ 2  4  6  8]\n",
      " [ 6 12 18 24]\n",
      " [10 20 30 40]\n",
      " [14 28 42 56]]\n",
      "Outer product Using a nested for loop: \n",
      " [[ 2.  4.  6.  8.]\n",
      " [ 6. 12. 18. 24.]\n",
      " [10. 20. 30. 40.]\n",
      " [14. 28. 42. 56.]]\n",
      "Outer product using numpy broadcasting operations: \n",
      " [[ 2  4  6  8]\n",
      " [ 6 12 18 24]\n",
      " [10 20 30 40]\n",
      " [14 28 42 56]]\n"
     ]
    }
   ],
   "source": [
    "u = np.array([1, 3, 5, 7])\n",
    "v = np.array([2, 4, 6, 8])\n",
    "\n",
    "#Using the function outer in numpy\n",
    "outer_1 = np.outer(u,v)\n",
    "print(\"Outer product using the function outer in numpy: \\n\", outer_1)\n",
    "\n",
    "#Using a nested for loop or a list comprehension\n",
    "outer_2 = np.ones((4,4))\n",
    "row_counter, col_counter = 0,0\n",
    "for i in u:\n",
    "    for j in v:\n",
    "        outer_2[row_counter][col_counter] = i*j\n",
    "        col_counter += 1\n",
    "    col_counter = 0\n",
    "    row_counter+=1\n",
    "print(\"Outer product Using a nested for loop: \\n\", outer_2)\n",
    "\n",
    "#Using numpy broadcasting operations\n",
    "outer_3 = u[:,np.newaxis]*v\n",
    "print(\"Outer product using numpy broadcasting operations: \\n\", outer_3)"
   ]
  },
  {
   "cell_type": "markdown",
   "metadata": {},
   "source": [
    "3\\. **Matrix masking**\n",
    "\n",
    "Create a 10 by 6 matrix of float random numbers, distributed between 0 and 3 according to a flat distribution.\n",
    "\n",
    "After creating the matrix, set all entries $< 0.3$ to zero using a mask."
   ]
  },
  {
   "cell_type": "code",
   "execution_count": 23,
   "metadata": {},
   "outputs": [
    {
     "name": "stdout",
     "output_type": "stream",
     "text": [
      "Obtained Matrix: \n",
      " [[0.89224996 2.12439211 1.36171797 2.89137254 0.6605666  0.05409115]\n",
      " [2.88881975 1.99457193 1.85904469 1.25353053 1.42029063 1.34747002]\n",
      " [2.3536179  2.94287243 2.63168251 0.20767251 2.63694672 1.26582261]\n",
      " [0.62794757 2.15077381 2.52499497 1.25900911 2.8034578  2.23338957]\n",
      " [1.18610589 0.16287606 1.63248749 2.28594949 1.2056349  2.26806644]\n",
      " [0.68706339 0.93154442 2.9727125  2.9419251  2.73282212 1.27612633]\n",
      " [0.832314   1.28049738 2.7547028  1.30261168 0.65858882 1.22889995]\n",
      " [2.26671664 2.65113126 0.3851265  1.35413944 1.49923876 0.88174617]\n",
      " [2.27376805 0.83004833 2.61385349 1.89434615 1.7352629  1.35025195]\n",
      " [2.03035209 0.77829164 0.15959353 2.7373909  0.12043613 1.34735944]]\n",
      "\n",
      "Filtered Matrix: \n",
      " [[0.89224996 2.12439211 1.36171797 2.89137254 0.6605666  0.        ]\n",
      " [2.88881975 1.99457193 1.85904469 1.25353053 1.42029063 1.34747002]\n",
      " [2.3536179  2.94287243 2.63168251 0.         2.63694672 1.26582261]\n",
      " [0.62794757 2.15077381 2.52499497 1.25900911 2.8034578  2.23338957]\n",
      " [1.18610589 0.         1.63248749 2.28594949 1.2056349  2.26806644]\n",
      " [0.68706339 0.93154442 2.9727125  2.9419251  2.73282212 1.27612633]\n",
      " [0.832314   1.28049738 2.7547028  1.30261168 0.65858882 1.22889995]\n",
      " [2.26671664 2.65113126 0.3851265  1.35413944 1.49923876 0.88174617]\n",
      " [2.27376805 0.83004833 2.61385349 1.89434615 1.7352629  1.35025195]\n",
      " [2.03035209 0.77829164 0.         2.7373909  0.         1.34735944]]\n"
     ]
    }
   ],
   "source": [
    "m = np.random.uniform(0,3,(10,6))\n",
    "print(\"Obtained Matrix: \\n\",m)\n",
    "\n",
    "mask = ( m > 0.3 )\n",
    "n = np.zeros((10,6)) + m*np.logical_and(mask, m) \n",
    "print(\"\\nFiltered Matrix: \\n\",n)"
   ]
  },
  {
   "cell_type": "markdown",
   "metadata": {},
   "source": [
    "4\\. **Trigonometric functions**\n",
    "\n",
    "Use `np.linspace` to create an array of 100 numbers between $0$ and $2\\pi$ (inclusive).\n",
    "\n",
    "  * Extract every 10th element using the slice notation\n",
    "  * Reverse the array using the slice notation\n",
    "  * Extract elements where the absolute difference between the `sin` and `cos` functions evaluated for that element is $< 0.1$\n",
    "  * **Optional**: make a plot showing the sin and cos functions and indicate where they are close"
   ]
  },
  {
   "cell_type": "code",
   "execution_count": 44,
   "metadata": {},
   "outputs": [
    {
     "name": "stdout",
     "output_type": "stream",
     "text": [
      "\n",
      "The every 10th element in matrice:  [0.         0.57119866 1.14239733 1.71359599 2.28479466 2.85599332\n",
      " 3.42719199 3.99839065 4.56958931 5.14078798 5.71198664 6.28318531]\n",
      "\n",
      "The reverse of the matrice: [6.28318531 6.21971879 6.15625227 6.09278575 6.02931923 5.96585272\n",
      " 5.9023862  5.83891968 5.77545316 5.71198664 5.64852012 5.58505361\n",
      " 5.52158709 5.45812057 5.39465405 5.33118753 5.26772102 5.2042545\n",
      " 5.14078798 5.07732146 5.01385494 4.95038842 4.88692191 4.82345539\n",
      " 4.75998887 4.69652235 4.63305583 4.56958931 4.5061228  4.44265628\n",
      " 4.37918976 4.31572324 4.25225672 4.1887902  4.12532369 4.06185717\n",
      " 3.99839065 3.93492413 3.87145761 3.8079911  3.74452458 3.68105806\n",
      " 3.61759154 3.55412502 3.4906585  3.42719199 3.36372547 3.30025895\n",
      " 3.23679243 3.17332591 3.10985939 3.04639288 2.98292636 2.91945984\n",
      " 2.85599332 2.7925268  2.72906028 2.66559377 2.60212725 2.53866073\n",
      " 2.47519421 2.41172769 2.34826118 2.28479466 2.22132814 2.15786162\n",
      " 2.0943951  2.03092858 1.96746207 1.90399555 1.84052903 1.77706251\n",
      " 1.71359599 1.65012947 1.58666296 1.52319644 1.45972992 1.3962634\n",
      " 1.33279688 1.26933037 1.20586385 1.14239733 1.07893081 1.01546429\n",
      " 0.95199777 0.88853126 0.82506474 0.76159822 0.6981317  0.63466518\n",
      " 0.57119866 0.50773215 0.44426563 0.38079911 0.31733259 0.25386607\n",
      " 0.19039955 0.12693304 0.06346652 0.        ]\n",
      "\n",
      "The list of elements where |sin-cos|<0.1: [0.7615982190520711, 0.8250647373064104, 3.8714576135146945, 3.934924131769034]\n"
     ]
    }
   ],
   "source": [
    "import math\n",
    "\n",
    "m = np.linspace(0, 2*math.pi, 100)\n",
    "#print(\"The array is:\", m)\n",
    "\n",
    "m_10 = m[::9]\n",
    "print(\"\\nThe every 10th element in matrice: \",m_10)\n",
    "\n",
    "m_rev = m[::-1]\n",
    "print(\"\\nThe reverse of the matrice:\", m_rev)\n",
    "\n",
    "m_list = [m[i] for i in range(100) if \n",
    "          (abs(math.sin(m[i]) - math.cos(m[i])) < 0.1)]\n",
    "print(\"\\nThe list of elements where |sin-cos|<0.1:\", m_list)"
   ]
  },
  {
   "cell_type": "markdown",
   "metadata": {},
   "source": [
    "5\\. **Matrices**\n",
    "\n",
    "Create a matrix that shows the 10 by 10 multiplication table.\n",
    "\n",
    " * Find the trace of the matrix\n",
    " * Extract the anti-diagonal matrix (this should be ```array([10, 18, 24, 28, 30, 30, 28, 24, 18, 10])```)\n",
    " * Extract the diagonal offset by 1 upwards (this should be ```array([ 2,  6, 12, 20, 30, 42, 56, 72, 90])```)"
   ]
  },
  {
   "cell_type": "code",
   "execution_count": 54,
   "metadata": {},
   "outputs": [
    {
     "name": "stdout",
     "output_type": "stream",
     "text": [
      "[[  1   2   3   4   5   6   7   8   9  10]\n",
      " [  2   4   6   8  10  12  14  16  18  20]\n",
      " [  3   6   9  12  15  18  21  24  27  30]\n",
      " [  4   8  12  16  20  24  28  32  36  40]\n",
      " [  5  10  15  20  25  30  35  40  45  50]\n",
      " [  6  12  18  24  30  36  42  48  54  60]\n",
      " [  7  14  21  28  35  42  49  56  63  70]\n",
      " [  8  16  24  32  40  48  56  64  72  80]\n",
      " [  9  18  27  36  45  54  63  72  81  90]\n",
      " [ 10  20  30  40  50  60  70  80  90 100]]\n",
      "The trace of the matrix:  385\n",
      "The anti-diagonal matrix:  [10 18 24 28 30 30 28 24 18 10]\n",
      "The diagonal with offset by 1:  [ 2  6 12 20 30 42 56 72 90]\n"
     ]
    }
   ],
   "source": [
    "m = np.arange(1, 11)\n",
    "n = m[:,np.newaxis]*m\n",
    "print(n)\n",
    "print(\"The trace of the matrix: \", np.matrix.trace(n))\n",
    "n_rev = n[::-1]\n",
    "print(\"The anti-diagonal matrix: \", np.matrix.diagonal(n[::-1]))\n",
    "print(\"The diagonal with offset by 1: \", np.matrix.diagonal(n,offset=1))"
   ]
  },
  {
   "cell_type": "markdown",
   "metadata": {},
   "source": [
    "6\\. **Broadcasting**\n",
    "\n",
    "Use broadcasting to create a grid of distances.\n",
    "\n",
    "Route 66 crosses the following cities in the US: Chicago, Springfield, Saint-Louis, Tulsa, Oklahoma City, Amarillo, Santa Fe, Albuquerque, Flagstaff, Los Angeles.\n",
    "\n",
    "The corresponding positions in miles are: 0, 198, 303, 736, 871, 1175, 1475, 1544, 1913, 2448\n",
    "\n",
    "  * Build a 2D grid of distances among each city along Route 66\n",
    "  * Convert the distances in km"
   ]
  },
  {
   "cell_type": "code",
   "execution_count": 57,
   "metadata": {},
   "outputs": [
    {
     "name": "stdout",
     "output_type": "stream",
     "text": [
      "The distance between cities in miles: \n",
      " [[   0  198  303  736  871 1175 1475 1544 1913 2448]\n",
      " [ 198    0  105  538  673  977 1277 1346 1715 2250]\n",
      " [ 303  105    0  433  568  872 1172 1241 1610 2145]\n",
      " [ 736  538  433    0  135  439  739  808 1177 1712]\n",
      " [ 871  673  568  135    0  304  604  673 1042 1577]\n",
      " [1175  977  872  439  304    0  300  369  738 1273]\n",
      " [1475 1277 1172  739  604  300    0   69  438  973]\n",
      " [1544 1346 1241  808  673  369   69    0  369  904]\n",
      " [1913 1715 1610 1177 1042  738  438  369    0  535]\n",
      " [2448 2250 2145 1712 1577 1273  973  904  535    0]]\n",
      "The distance between cities in kms: \n",
      " [[   0.   318.6  487.5 1184.2 1401.4 1890.6 2373.3 2484.3 3078.  3938.8]\n",
      " [ 318.6    0.   168.9  865.6 1082.9 1572.  2054.7 2165.7 2759.4 3620.2]\n",
      " [ 487.5  168.9    0.   696.7  913.9 1403.  1885.7 1996.8 2590.5 3451.3]\n",
      " [1184.2  865.6  696.7    0.   217.2  706.4 1189.1 1300.1 1893.8 2754.6]\n",
      " [1401.4 1082.9  913.9  217.2    0.   489.1  971.8 1082.9 1676.6 2537.4]\n",
      " [1890.6 1572.  1403.   706.4  489.1    0.   482.7  593.7 1187.4 2048.3]\n",
      " [2373.3 2054.7 1885.7 1189.1  971.8  482.7    0.   111.   704.7 1565.6]\n",
      " [2484.3 2165.7 1996.8 1300.1 1082.9  593.7  111.     0.   593.7 1454.5]\n",
      " [3078.  2759.4 2590.5 1893.8 1676.6 1187.4  704.7  593.7    0.   860.8]\n",
      " [3938.8 3620.2 3451.3 2754.6 2537.4 2048.3 1565.6 1454.5  860.8    0. ]]\n"
     ]
    }
   ],
   "source": [
    "miles = np.array([0, 198, 303, 736, 871, 1175, 1475, 1544, 1913, 2448])\n",
    "factor = 1.609\n",
    "kms = np.array([i*factor for i in miles])\n",
    "\n",
    "dist_miles = abs(miles[:,np.newaxis]-miles)\n",
    "print(\"The distance between cities in miles: \\n\",dist_miles)\n",
    "dist_km = np.round(abs(kms[:,np.newaxis]-kms),1)\n",
    "print(\"The distance between cities in kms: \\n\",dist_km)"
   ]
  },
  {
   "cell_type": "markdown",
   "metadata": {},
   "source": [
    "7\\. **Prime numbers sieve**\n",
    "\n",
    "Compute the prime numbers in the 0-N (start with N=99) range with a sieve (mask).\n",
    "\n",
    "  * Constract a shape (N,) boolean array, which is the mask\n",
    "  * Identify the multiples of each number starting from 2 and set accordingly the corresponding mask element\n",
    "  * Apply the mask to obtain an array of ordered prime numbers\n",
    "  * Check the performances (with `timeit`); how does it scale with N?\n",
    "  * Implement the optimization suggested in the [sieve of Eratosthenes](https://en.wikipedia.org/wiki/Sieve_of_Eratosthenes)"
   ]
  },
  {
   "cell_type": "code",
   "execution_count": 65,
   "metadata": {},
   "outputs": [
    {
     "name": "stdout",
     "output_type": "stream",
     "text": [
      "Mask:  [False, True, True, True, False, True, False, True, False, False, False, True, False, True, False, False, False, True, False, True, False, False, False, True, False, False, False, False, False, True, False, True, False, False, False, False, False, True, False, False, False, True, False, True, False, False, False, True, False, False, False, False, False, True, False, False, False, False, False, True, False, True, False, False, False, False, False, True, False, False, False, True, False, True, False, False, False, False, False, True, False, False, False, True, False, False, False, False, False, True, False, False, False, False, False, False, False, True, False]\n",
      "Prime numbers:  [ 1  2  3  5  7 11 13 17 19 23 29 31 37 41 43 47 53 59 61 67 71 73 79 83\n",
      " 89 97]\n",
      "Execution time:  0.000739299925044179 seconds\n"
     ]
    }
   ],
   "source": [
    "import timeit\n",
    "def prime(n):\n",
    "    if n == 0:\n",
    "        return False\n",
    "    for i in range(2, n):\n",
    "        if n % i == 0:\n",
    "            return False\n",
    "    return True\n",
    "N = 99\n",
    "m = np.arange(N)\n",
    "starttime = timeit.default_timer()\n",
    "mask = [prime(m[i]) for i in m] \n",
    "prime_numbers = m[mask]\n",
    "endtime= timeit.default_timer() - starttime\n",
    "print(\"Mask: \",mask)\n",
    "print(\"Prime numbers: \",prime_numbers)\n",
    "print(\"Execution time: \",endtime,\"seconds\")\n"
   ]
  },
  {
   "cell_type": "markdown",
   "metadata": {},
   "source": [
    "8\\. **Diffusion using random walk**\n",
    "\n",
    "Consider a simple random walk process: at each step in time, a walker jumps right or left (+1 or -1) with equal probability. The goal is to find the typical distance from the origin of many random walkers after a given amount of time.\n",
    "\n",
    "*Hint*: create a 2D array where each row represents a walker, and each column represents a time step.\n",
    "\n",
    "  * Take 1000 walkers and let them walk for 200 steps\n",
    "  * Use `randint` to create a 2D array of size $walkers \\times steps$ with values -1 or 1\n",
    "  * Calculate the walking distances for each walker (e.g. by summing the elements in each row)\n",
    "  * Take the square of the previously-obtained array (element-wise)\n",
    "  * Compute the mean of the squared distances at each step (i.e. the mean along the columns)\n",
    "  * **Optional**: plot the average distances ($\\sqrt(distance^2)$) as a function of time (step)"
   ]
  },
  {
   "cell_type": "code",
   "execution_count": 88,
   "metadata": {},
   "outputs": [
    {
     "name": "stdout",
     "output_type": "stream",
     "text": [
      "The random matric: \n",
      " [[-1 -1 -1 ... -1 -1 -1]\n",
      " [ 1 -1 -1 ... -1  1 -1]\n",
      " [-1 -1 -1 ... -1 -1  1]\n",
      " ...\n",
      " [-1 -1  1 ... -1  1 -1]\n",
      " [ 1 -1 -1 ... -1  1 -1]\n",
      " [-1 -1 -1 ... -1 -1 -1]]\n"
     ]
    }
   ],
   "source": [
    "m = np.random.randint(-1,2,(1000, 200)) # random matric to describe 1000 walkers and their 200 steps\n",
    "m[m == 0] = -1\n",
    "print(\"The random matric: \\n\",m)\n",
    "distance = m.sum(axis=1) \n",
    "#print(\"The distance covered by each walker is \\n\",distance)\n",
    "square_distance=np.square(distances)\n",
    "#print(\"The square of the distance covered by each walker is \\n\", square_distance)\n",
    "mean_steps=square_distance.mean(axis=0)\n",
    "#print(\"The mean of distances at each step is \\n\", mean_steps)"
   ]
  },
  {
   "cell_type": "code",
   "execution_count": null,
   "metadata": {},
   "outputs": [],
   "source": []
  }
 ],
 "metadata": {
  "kernelspec": {
   "display_name": "Python 3 (ipykernel)",
   "language": "python",
   "name": "python3"
  },
  "language_info": {
   "codemirror_mode": {
    "name": "ipython",
    "version": 3
   },
   "file_extension": ".py",
   "mimetype": "text/x-python",
   "name": "python",
   "nbconvert_exporter": "python",
   "pygments_lexer": "ipython3",
   "version": "3.10.0"
  }
 },
 "nbformat": 4,
 "nbformat_minor": 2
}
